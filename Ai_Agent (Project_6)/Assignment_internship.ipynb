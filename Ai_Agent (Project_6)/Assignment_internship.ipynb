{
 "cells": [
  {
   "cell_type": "code",
   "execution_count": 1,
   "id": "773f954e-0802-4a62-aed4-4c8b529048bb",
   "metadata": {},
   "outputs": [],
   "source": [
    "import os\n",
    "import base64\n",
    "import pandas as pd\n",
    "from docx import Document\n",
    "from PIL import Image\n",
    "import fitz \n",
    "from io import BytesIO\n",
    "import requests"
   ]
  },
  {
   "cell_type": "code",
   "execution_count": 7,
   "id": "a62ce7f3-77bb-49af-be62-2f967efab349",
   "metadata": {},
   "outputs": [],
   "source": [
    "TOGETHER_API_KEY = \"2fb845a832ce73f138c40a606a960ec9146df909af8dc1f0063cb5360c8daaed\"\n",
    "MODEL_ID = \"meta-llama/Llama-4-Maverick-17B-128E-Instruct-FP8\"\n",
    "\n",
    "headers = {\n",
    "    \"Authorization\": f\"Bearer {TOGETHER_API_KEY}\",\n",
    "    \"Content-Type\": \"application/json\"\n",
    "}"
   ]
  },
  {
   "cell_type": "code",
   "execution_count": 15,
   "id": "5a3149ec-ebca-4677-843c-42c21b181793",
   "metadata": {},
   "outputs": [],
   "source": [
    "def extract_text_files(file):\n",
    "    ext = os.path.splitext(filename)[1].lower()\n",
    "    if ext == \".csv\":\n",
    "        df = pd.read_csv(file)\n",
    "        return df.to_string()\n",
    "\n",
    "    elif ext == \".txt\":\n",
    "        return file.read().decode(\"utf-8\")\n",
    "\n",
    "    elif ext == \".xls\" or ext == \".xlsx\":\n",
    "        df = pd.read_excel(file)\n",
    "        return df.to_string()\n",
    "\n",
    "    elif ext == \".docx\":\n",
    "        doc = Document(file)\n",
    "        return \"\\n\".join([p.text for p in doc.paragraphs])\n",
    "\n",
    "    elif ext == \".pdf\":\n",
    "        text = \"\"\n",
    "        pdf = fitz.open(stream=file.read(), filetype=\"pdf\")\n",
    "        for page in pdf:\n",
    "            text += page.get_text()\n",
    "        return text        \n",
    "\n",
    "    else:\n",
    "        return \"Error 404\""
   ]
  },
  {
   "cell_type": "code",
   "execution_count": 29,
   "id": "940b8af8-8d9c-40f8-9e5c-84c4d48b00e6",
   "metadata": {},
   "outputs": [],
   "source": [
    "def extract_image(file):\n",
    "    return Image.open(BytesIO(file.read())).convert(\"RGB\")\n",
    "\n",
    "def encode_image_to_base64(image):\n",
    "    buffered = BytesIO()\n",
    "    image.save(buffered, format=\"PNG\")\n",
    "    return base64.b64encode(buffered.getvalue()).decode(\"utf-8\")"
   ]
  },
  {
   "cell_type": "code",
   "execution_count": 9,
   "id": "9c250dde-c557-4e5e-b80f-49dcac1854d0",
   "metadata": {},
   "outputs": [],
   "source": [
    "def analyze_text(text, question):\n",
    "    prompt = f\"You are a data analyst.\\n\\n{text}\\n\\nQuestion: {question}\"\n",
    "    payload = {\n",
    "        \"model\": MODEL_ID,\n",
    "        \"prompt\": prompt,\n",
    "        \"max_tokens\": 512,\n",
    "        \"temperature\": 0.7\n",
    "    }\n",
    "    response = requests.post(\"https://api.together.xyz/v1/completions\", headers=headers, json=payload)\n",
    "    return response.json().get(\"choices\", [{}])[0].get(\"text\", \"No response from model.\")\n"
   ]
  },
  {
   "cell_type": "code",
   "execution_count": 30,
   "id": "44d5ee24-34e7-4380-a648-0c56b3d747fb",
   "metadata": {},
   "outputs": [],
   "source": [
    "def analyze_image(image, question):\n",
    "    img_base64 = encode_image_to_base64(image)\n",
    "    payload = {\n",
    "        \"model\": MODEL_ID,\n",
    "        \"messages\": [\n",
    "            {\n",
    "                \"role\": \"user\",\n",
    "                \"content\": [\n",
    "                    {\"type\": \"text\", \"text\": question},\n",
    "                    {\"type\": \"image_url\", \"image_url\": {\"url\": f\"data:image/png;base64,{img_base64}\"}}\n",
    "                ]\n",
    "            }\n",
    "        ],\n",
    "        \"max_tokens\": 512,\n",
    "        \"temperature\": 0.7\n",
    "    }\n",
    "\n",
    "    response = requests.post(\"https://api.together.xyz/v1/chat/completions\", headers=headers, json=payload)\n",
    "    \n",
    "    if response.status_code == 200:\n",
    "        return response.json().get(\"choices\", [{}])[0].get(\"message\", {}).get(\"content\", \"No response content.\")\n",
    "    else:\n",
    "        return f\"Error: {response.status_code} - {response.text}\"\n"
   ]
  },
  {
   "cell_type": "code",
   "execution_count": 20,
   "id": "9269b277-b74e-4614-82db-520563b4a40a",
   "metadata": {},
   "outputs": [
    {
     "name": "stdout",
     "output_type": "stream",
     "text": [
      "🔎 Text Analysis Result:\n",
      " ?\n",
      "```python\n",
      "# Import necessary libraries\n",
      "import pandas as pd\n",
      "\n",
      "# Assuming the data is in a DataFrame named 'df'\n",
      "df = pd.read_csv('data.csv')\n",
      "\n",
      "# Get the number of rows in the DataFrame\n",
      "num_rows = df.shape[0]\n",
      "\n",
      "# Print the result\n",
      "print(num_rows)\n",
      "```\n"
     ]
    }
   ],
   "source": [
    "with open(\"titanic2.csv\", \"rb\") as file:\n",
    "    text = extract_text_files(file)\n",
    "    question = \"How many rows are there in the attached file\"\n",
    "    result = analyze_text(text, question)\n",
    "    print(\"Text Analysis Result:\\n\", result)"
   ]
  },
  {
   "cell_type": "code",
   "execution_count": 31,
   "id": "e48b00b7-d7ab-4506-b2ec-3e7044a1f8b8",
   "metadata": {},
   "outputs": [
    {
     "name": "stdout",
     "output_type": "stream",
     "text": [
      "The bar chart presents a comparison of sales strategies for four distinct products, labeled A, B, C, and D. The x-axis lists five different strategies, while the y-axis represents the sales figures, ranging from 0 to 200.\n",
      "\n",
      "**Product Sales Trends:**\n",
      "\n",
      "*   **Product A (Light Blue):** The sales of Product A remain relatively consistent across all five strategies, with a slight increase observed in Strategy 2 and Strategy 3.\n",
      "*   **Product B (Dark Blue):** Product B exhibits a notable peak in sales under Strategy 2, followed by a decline in subsequent strategies. Its sales are lowest under Strategies 3, 4, and 5.\n",
      "*   **Product C (Orange):** Product C consistently demonstrates high sales across all strategies, with a slight increase from Strategy 1 to Strategy 2, and then remains steady.\n",
      "*   **Product D (Yellow):** Product D shows a significant increase in sales from Strategy 1 to Strategy 2, followed by a plateau in Strategies 3 and 4. However, its sales experience a sharp decline under Strategy 5.\n",
      "\n",
      "**Key Observations:**\n",
      "\n",
      "*   **Strategy 1:** Product C has the highest sales, while Product D has the lowest.\n",
      "*   **Strategy 2:** All products except Product A show an increase in sales, with Product D experiencing the most substantial growth.\n",
      "*   **Strategy 3 and 4:** Product C maintains its high sales, while Product D continues to perform well. Product B's sales decline, and Product A's sales remain relatively stable.\n",
      "*   **Strategy 5:** Product C remains the top performer, but Product D's sales plummet.\n",
      "\n",
      "**Conclusion:**\n",
      "\n",
      "The chart illustrates varying sales performances across different products and strategies. While Product C consistently excels, Product D's sales are highly dependent on the strategy employed. The data suggests that Strategy 2 is effective for most products, except Product A. In contrast, Strategy 5 is detrimental to Product D's sales. These insights can inform sales strategy decisions to optimize product performance.\n"
     ]
    }
   ],
   "source": [
    "with open(\"barchart.jpg\", \"rb\") as file:\n",
    "    image = extract_image(file)\n",
    "    question = \"Explain the trends shown in this bar chart.\"\n",
    "    result = analyze_image(image, question)\n",
    "    print(result)\n"
   ]
  },
  {
   "cell_type": "code",
   "execution_count": null,
   "id": "9dd68d8a-a740-41aa-a6cd-339bc0509657",
   "metadata": {},
   "outputs": [],
   "source": []
  }
 ],
 "metadata": {
  "kernelspec": {
   "display_name": "Python 3 (ipykernel)",
   "language": "python",
   "name": "python3"
  },
  "language_info": {
   "codemirror_mode": {
    "name": "ipython",
    "version": 3
   },
   "file_extension": ".py",
   "mimetype": "text/x-python",
   "name": "python",
   "nbconvert_exporter": "python",
   "pygments_lexer": "ipython3",
   "version": "3.10.11"
  }
 },
 "nbformat": 4,
 "nbformat_minor": 5
}
